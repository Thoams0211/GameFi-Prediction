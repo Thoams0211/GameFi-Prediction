{
 "cells": [
  {
   "cell_type": "markdown",
   "metadata": {},
   "source": [
    "# 1. 构建模型"
   ]
  },
  {
   "cell_type": "code",
   "execution_count": 1,
   "metadata": {
    "collapsed": true,
    "ExecuteTime": {
     "end_time": "2023-10-20T05:19:04.706194400Z",
     "start_time": "2023-10-20T05:19:01.105067400Z"
    }
   },
   "outputs": [
    {
     "name": "stderr",
     "output_type": "stream",
     "text": [
      "D:\\Anaconda\\lib\\site-packages\\scipy\\__init__.py:146: UserWarning: A NumPy version >=1.16.5 and <1.23.0 is required for this version of SciPy (detected version 1.25.2\n",
      "  warnings.warn(f\"A NumPy version >={np_minversion} and <{np_maxversion}\"\n"
     ]
    }
   ],
   "source": [
    "import torch\n",
    "import torch.nn as nn\n",
    "import pandas as pd\n",
    "from sklearn.preprocessing import MinMaxScaler\n",
    "import numpy as np\n",
    "\n",
    "\n",
    "# 定义LSTM模型\n",
    "class LSTMModel(nn.Module):\n",
    "    def __init__(self, input_size, hidden_size, num_layers, dropout_prob, output_size):\n",
    "        super(LSTMModel, self).__init__()\n",
    "\n",
    "        self.hidden_size = hidden_size\n",
    "        self.num_layers = num_layers\n",
    "\n",
    "        self.lstm = nn.LSTM(input_size, hidden_size, num_layers, batch_first=True)\n",
    "        self.dropout = nn.Dropout(dropout_prob)\n",
    "        self.fc = nn.Linear(hidden_size, output_size)\n",
    "\n",
    "\n",
    "    def forward(self, _x):\n",
    "\n",
    "        out, _ = self.lstm(_x)  # _x is input, size (seq_len, batch, input_size)\n",
    "        b, h = out.shape  # x is output, size (seq_len, batch, hidden_size)\n",
    "        out = self.fc(out)\n",
    "\n",
    "        return out\n",
    "\n",
    "\n",
    "    def get_data(self, path):\n",
    "\n",
    "        global sequence_len, batch_size, input_size, ori_y_min, ori_y_max, scaler\n",
    "\n",
    "        dataset = pd.read_csv(\n",
    "            path,\n",
    "            engine=\"python\",\n",
    "            parse_dates=[\"timestamp\"],\n",
    "            index_col=[\"timestamp\"],\n",
    "            encoding=\"utf-8\",\n",
    "        )\n",
    "        sequence_len = len(dataset) - 1\n",
    "        columns = [\"open\", \"high\", \"low\", \"close\", \"volume\"]\n",
    "        for col in columns:\n",
    "\n",
    "            if col == 'close':\n",
    "                ori_y_min = pd.DataFrame.min(dataset[col])\n",
    "                ori_y_max = pd.DataFrame.max(dataset[col])\n",
    "\n",
    "\n",
    "            scaler = MinMaxScaler()\n",
    "            dataset[col] = scaler.fit_transform(dataset[col].values.reshape(-1, 1))\n",
    "        X = dataset.drop(columns=[\"close\"], axis=1)\n",
    "        y = dataset[\"close\"]\n",
    "\n",
    "        X = torch.from_numpy(X.values).float()\n",
    "        y = torch.from_numpy(y.values).float()\n",
    "\n",
    "        return X, y\n"
   ]
  },
  {
   "cell_type": "markdown",
   "metadata": {
    "collapsed": false
   },
   "source": [
    "# 2. 初始化模型"
   ]
  },
  {
   "cell_type": "markdown",
   "metadata": {},
   "source": [
    "## 2.1 设置基本参数"
   ]
  },
  {
   "cell_type": "code",
   "execution_count": 2,
   "metadata": {
    "collapsed": false,
    "ExecuteTime": {
     "end_time": "2023-10-20T05:19:10.343858300Z",
     "start_time": "2023-10-20T05:19:04.708255500Z"
    }
   },
   "outputs": [
    {
     "data": {
      "text/plain": "LSTMModel(\n  (lstm): LSTM(4, 150, batch_first=True)\n  (dropout): Dropout(p=0.2, inplace=False)\n  (fc): Linear(in_features=150, out_features=1, bias=True)\n)"
     },
     "execution_count": 2,
     "metadata": {},
     "output_type": "execute_result"
    }
   ],
   "source": [
    "# 设置模型参数\n",
    "input_size = 4\n",
    "output_size = 1\n",
    "sequence_len = 0\n",
    "\n",
    "hidden_size = 150\n",
    "# batch_size = 50\n",
    "num_layers = 1\n",
    "dropout_prob = 0.2\n",
    "tot_epoch = 2000\n",
    "learning_rate = 0.003\n",
    "l2_reg = 0.0\n",
    "teacher_len = 50\n",
    "\n",
    "# 设置训练，测试集\n",
    "train_ratio = 0.8\n",
    "\n",
    "# 创建模型实例并将其移动到GPU上\n",
    "model = LSTMModel(input_size, hidden_size, num_layers, dropout_prob, output_size)\n",
    "device = torch.device(\"cuda\")\n",
    "model.to(device)"
   ]
  },
  {
   "cell_type": "markdown",
   "metadata": {
    "collapsed": false
   },
   "source": [
    "## 2.2 设置优化器和损失函数"
   ]
  },
  {
   "cell_type": "code",
   "execution_count": 3,
   "metadata": {
    "collapsed": false,
    "ExecuteTime": {
     "end_time": "2023-10-20T05:19:10.592592600Z",
     "start_time": "2023-10-20T05:19:10.374117500Z"
    }
   },
   "outputs": [],
   "source": [
    "# 定义损失函数和优化器\n",
    "criterion = nn.MSELoss()  # 调用MSE损失函数\n",
    "optimizer = torch.optim.Adam(model.parameters(), lr=learning_rate, weight_decay=l2_reg)  # 调用Adam反向传播，梯度下降算法求解器"
   ]
  },
  {
   "cell_type": "markdown",
   "source": [
    "## 2.3 scaler逆操作"
   ],
   "metadata": {
    "collapsed": false
   }
  },
  {
   "cell_type": "code",
   "execution_count": 4,
   "outputs": [],
   "source": [
    "def inverse_min_max_scale(scaled_tensor, min_val, max_val):\n",
    "    # 逆操作：将缩放后的张量还原为原始范围\n",
    "    original_tensor = scaled_tensor * (max_val - min_val) + min_val\n",
    "    return original_tensor"
   ],
   "metadata": {
    "collapsed": false,
    "ExecuteTime": {
     "end_time": "2023-10-20T05:19:10.602901Z",
     "start_time": "2023-10-20T05:19:10.381935700Z"
    }
   }
  },
  {
   "cell_type": "markdown",
   "metadata": {
    "collapsed": false
   },
   "source": [
    "# 3. 获取数据"
   ]
  },
  {
   "cell_type": "code",
   "execution_count": 5,
   "metadata": {
    "collapsed": false,
    "ExecuteTime": {
     "end_time": "2023-10-20T05:19:10.686944Z",
     "start_time": "2023-10-20T05:19:10.403950200Z"
    }
   },
   "outputs": [],
   "source": [
    "name = \"ECOMI\"\n",
    "path = \"data/\" + name + \".csv\"\n",
    "\n",
    "ori_y_min = 0\n",
    "ori_y_max = 0\n",
    "scaler = None\n",
    "\n",
    "input_data, target_data = model.get_data(path)\n",
    "\n",
    "test_len = int(sequence_len * (train_ratio)) - teacher_len\n",
    "test_input = input_data[test_len:]\n",
    "test_target = target_data[test_len:]\n",
    "\n",
    "input_data = input_data[:test_len + teacher_len].to(device)\n",
    "target_data = target_data[:test_len + teacher_len].to(device)\n",
    "target_data = target_data.view(-1, 1)\n",
    "\n",
    "test_target = test_target.to(device)\n",
    "test_target = test_target.view(-1, 1)\n",
    "test_input = test_input.to(device)"
   ]
  },
  {
   "cell_type": "markdown",
   "metadata": {
    "collapsed": false
   },
   "source": [
    "# 4. 训练模型"
   ]
  },
  {
   "cell_type": "code",
   "execution_count": 6,
   "metadata": {
    "collapsed": false,
    "ExecuteTime": {
     "end_time": "2023-10-20T05:19:35.143565500Z",
     "start_time": "2023-10-20T05:19:10.689110Z"
    }
   },
   "outputs": [
    {
     "name": "stdout",
     "output_type": "stream",
     "text": [
      "Epoch: [100/2000], Loss:0.00122\n",
      "Epoch: [200/2000], Loss:0.00072\n",
      "Epoch: [300/2000], Loss:0.00043\n",
      "Epoch: [400/2000], Loss:0.00038\n",
      "Epoch: [500/2000], Loss:0.00034\n",
      "Epoch: [600/2000], Loss:0.00030\n",
      "Epoch: [700/2000], Loss:0.00036\n",
      "Epoch: [800/2000], Loss:0.00032\n",
      "Epoch: [900/2000], Loss:0.00025\n",
      "Epoch: [1000/2000], Loss:0.00024\n",
      "Epoch: [1100/2000], Loss:0.00022\n",
      "Epoch: [1200/2000], Loss:0.00022\n",
      "Epoch: [1300/2000], Loss:0.00018\n",
      "Epoch: [1400/2000], Loss:0.00016\n",
      "Epoch: [1500/2000], Loss:0.00015\n",
      "Epoch: [1600/2000], Loss:0.00013\n",
      "Epoch: [1700/2000], Loss:0.00013\n",
      "Epoch: [1800/2000], Loss:0.00014\n",
      "Epoch: [1900/2000], Loss:0.00011\n",
      "Epoch: [2000/2000], Loss:0.00011\n"
     ]
    }
   ],
   "source": [
    "prev_loss = 20000\n",
    "output = None\n",
    "\n",
    "epoch = 0\n",
    "loss = 0\n",
    "while True:\n",
    "\n",
    "    if epoch == 1999:\n",
    "        break\n",
    "\n",
    "    if epoch < tot_epoch:\n",
    "        output = model(input_data).to(device)\n",
    "        loss = criterion(output, target_data)\n",
    "\n",
    "        optimizer.zero_grad()\n",
    "        loss.backward()\n",
    "        optimizer.step()\n",
    "\n",
    "        epoch += 1\n",
    "\n",
    "        if loss < prev_loss:\n",
    "            # torch.save(LSTMModel.state_dict(), 'lstm_model.pt')  # save model parameters to files\n",
    "            prev_loss = loss\n",
    "\n",
    "        if loss.item() < 1e-4:\n",
    "            print('Epoch [{}/{}], Loss: {:.5f}'.format(epoch + 1, tot_epoch, loss.item()))\n",
    "            print(\"The loss value is reached\")\n",
    "            break\n",
    "        elif (epoch + 1) % 100 == 0:\n",
    "            print('Epoch: [{}/{}], Loss:{:.5f}'.format(epoch + 1, tot_epoch, loss.item()))\n",
    "    else:\n",
    "        if loss < 0.6:\n",
    "            break\n",
    "        else:\n",
    "            tot_epoch += 500\n",
    "            continue\n"
   ]
  },
  {
   "cell_type": "code",
   "execution_count": 7,
   "outputs": [
    {
     "name": "stdout",
     "output_type": "stream",
     "text": [
      "MAPE (平均绝对百分比误差): 1.6180310249328613 %\n"
     ]
    }
   ],
   "source": [
    "def mape(y_true, y_pred):\n",
    "    absolute_percentage_errors = torch.abs((y_true - y_pred) / y_true)\n",
    "    mape = torch.mean(absolute_percentage_errors) * 100\n",
    "    return mape\n",
    "\n",
    "target_data = inverse_min_max_scale(target_data, ori_y_min, ori_y_max)\n",
    "output = inverse_min_max_scale(output, ori_y_min, ori_y_max)\n",
    "\n",
    "mape_value = mape(target_data, output)\n",
    "print(\"MAPE (平均绝对百分比误差):\", mape_value.item(), \"%\")\n"
   ],
   "metadata": {
    "collapsed": false,
    "ExecuteTime": {
     "end_time": "2023-10-20T05:19:35.174342800Z",
     "start_time": "2023-10-20T05:19:35.146573700Z"
    }
   }
  },
  {
   "cell_type": "code",
   "execution_count": 8,
   "outputs": [
    {
     "data": {
      "text/plain": "<Figure size 576x288 with 1 Axes>",
      "image/png": "[encoded data removed]"
     },
     "metadata": {
      "needs_background": "light"
     },
     "output_type": "display_data"
    }
   ],
   "source": [
    "import matplotlib.pyplot as plt\n",
    "\n",
    "# 示例的预测值和真实值\n",
    "predictions = output.view(-1).tolist()\n",
    "ground_truth = target_data.view(-1).tolist()\n",
    "\n",
    "# 创建 x 轴坐标，可以是简单的范围\n",
    "x = range(len(predictions))\n",
    "\n",
    "# 使用Matplotlib绘制折线图\n",
    "plt.figure(figsize=(8, 4))  # 设置图像大小\n",
    "\n",
    "# 绘制预测值的折线\n",
    "plt.plot(predictions, label='Prediction')\n",
    "\n",
    "# 绘制真实值的折线\n",
    "plt.plot(ground_truth, label='Ground Truth')\n",
    "\n",
    "# 添加图例\n",
    "plt.legend()\n",
    "\n",
    "# 添加标签\n",
    "plt.xlabel('Date')\n",
    "plt.ylabel('Value')\n",
    "\n",
    "# 显示网格\n",
    "plt.grid(True)\n",
    "\n",
    "# 显示图像\n",
    "plt.title('Pre vs. Tru')\n",
    "plt.show()\n"
   ],
   "metadata": {
    "collapsed": false,
    "ExecuteTime": {
     "end_time": "2023-10-20T05:19:36.053143900Z",
     "start_time": "2023-10-20T05:19:35.162101Z"
    }
   }
  },
  {
   "cell_type": "markdown",
   "metadata": {
    "collapsed": false
   },
   "source": [
    "# 5. 预测"
   ]
  },
  {
   "cell_type": "code",
   "execution_count": 9,
   "metadata": {
    "collapsed": false,
    "ExecuteTime": {
     "end_time": "2023-10-20T05:19:36.134146500Z",
     "start_time": "2023-10-20T05:19:36.055150300Z"
    }
   },
   "outputs": [],
   "source": [
    "# 使用模型进行预测\n",
    "model.eval()\n",
    "with torch.no_grad():\n",
    "    prediction = model(test_input)\n",
    "\n",
    "test_target = inverse_min_max_scale(test_target, ori_y_min, ori_y_max)\n",
    "prediction = inverse_min_max_scale(prediction, ori_y_min, ori_y_max)\n",
    "\n",
    "y_pre = prediction.view(-1).tolist()\n",
    "y_tru = test_target.view(-1).tolist()"
   ]
  },
  {
   "cell_type": "markdown",
   "metadata": {
    "collapsed": false
   },
   "source": [
    "# 6. 评估模型"
   ]
  },
  {
   "cell_type": "markdown",
   "metadata": {
    "collapsed": false
   },
   "source": [
    "### 6.1 R^2"
   ]
  },
  {
   "cell_type": "code",
   "execution_count": 10,
   "metadata": {
    "collapsed": false,
    "ExecuteTime": {
     "end_time": "2023-10-20T05:19:36.135167200Z",
     "start_time": "2023-10-20T05:19:36.068222200Z"
    }
   },
   "outputs": [
    {
     "name": "stdout",
     "output_type": "stream",
     "text": [
      "R² (决定系数): 0.9771941304206848\n"
     ]
    }
   ],
   "source": [
    "def r2_score(y_true, y_pred):\n",
    "    ssr = torch.sum((y_true - y_pred)**2)\n",
    "    sst = torch.sum((y_true - torch.mean(y_true))**2)\n",
    "    r2 = 1 - (ssr / sst)\n",
    "    return r2\n",
    "\n",
    "r_squared = r2_score(test_target[teacher_len:], prediction[teacher_len:])\n",
    "print(\"R² (决定系数):\", r_squared.item())\n"
   ]
  },
  {
   "cell_type": "markdown",
   "metadata": {
    "collapsed": false
   },
   "source": [
    "### 6.2 MAPE"
   ]
  },
  {
   "cell_type": "code",
   "execution_count": 11,
   "metadata": {
    "collapsed": false,
    "ExecuteTime": {
     "end_time": "2023-10-20T05:19:36.135167200Z",
     "start_time": "2023-10-20T05:19:36.098744500Z"
    }
   },
   "outputs": [
    {
     "name": "stdout",
     "output_type": "stream",
     "text": [
      "MAPE (平均绝对百分比误差): 1.8356688022613525 %\n"
     ]
    }
   ],
   "source": [
    "def mape(y_true, y_pred):\n",
    "    absolute_percentage_errors = torch.abs((y_true - y_pred) / y_true)\n",
    "    mape = torch.mean(absolute_percentage_errors) * 100\n",
    "    return mape\n",
    "\n",
    "mape_value = mape(test_target[teacher_len:], prediction[teacher_len:])\n",
    "print(\"MAPE (平均绝对百分比误差):\", mape_value.item(), \"%\")\n"
   ]
  },
  {
   "cell_type": "markdown",
   "metadata": {
    "collapsed": false
   },
   "source": [
    "### 6.3 绘制图像"
   ]
  },
  {
   "cell_type": "code",
   "execution_count": 12,
   "metadata": {
    "collapsed": false,
    "ExecuteTime": {
     "end_time": "2023-10-20T05:19:36.206891600Z",
     "start_time": "2023-10-20T05:19:36.102960600Z"
    }
   },
   "outputs": [
    {
     "data": {
      "text/plain": "<Figure size 576x288 with 1 Axes>",
      "image/png": "[encoded data removed]"
     },
     "metadata": {
      "needs_background": "light"
     },
     "output_type": "display_data"
    }
   ],
   "source": [
    "import matplotlib.pyplot as plt\n",
    "\n",
    "# 示例的预测值和真实值\n",
    "predictions = y_pre[teacher_len:]\n",
    "ground_truth = y_tru[teacher_len:]\n",
    "\n",
    "# 创建 x 轴坐标，可以是简单的范围\n",
    "x = range(len(predictions))\n",
    "\n",
    "# 使用Matplotlib绘制折线图\n",
    "plt.figure(figsize=(8, 4))  # 设置图像大小\n",
    "\n",
    "# 绘制预测值的折线\n",
    "plt.plot(predictions, label='Prediction')\n",
    "\n",
    "# 绘制真实值的折线\n",
    "plt.plot(ground_truth, label='Ground Truth')\n",
    "\n",
    "# 添加图例\n",
    "plt.legend()\n",
    "\n",
    "# 添加标签\n",
    "plt.xlabel('Date')\n",
    "plt.ylabel('Value')\n",
    "\n",
    "# 显示网格\n",
    "plt.grid(True)\n",
    "\n",
    "# 显示图像\n",
    "plt.title('Pre vs. Tru')\n",
    "plt.show()\n"
   ]
  },
  {
   "cell_type": "markdown",
   "metadata": {
    "collapsed": false
   },
   "source": [
    "### 6.4 输出预测值和真实值"
   ]
  },
  {
   "cell_type": "code",
   "execution_count": 13,
   "metadata": {
    "collapsed": false,
    "ExecuteTime": {
     "end_time": "2023-10-20T05:19:36.210066500Z",
     "start_time": "2023-10-20T05:19:36.202869600Z"
    }
   },
   "outputs": [
    {
     "data": {
      "text/plain": "          Pre     Truth\n0    0.000588  0.000573\n1    0.000580  0.000573\n2    0.000577  0.000576\n3    0.000573  0.000568\n4    0.000576  0.000568\n..        ...       ...\n105  0.000814  0.000808\n106  0.000824  0.000827\n107  0.000833  0.000824\n108  0.000837  0.000839\n109  0.000857  0.000890\n\n[110 rows x 2 columns]",
      "text/html": "<div>\n<style scoped>\n    .dataframe tbody tr th:only-of-type {\n        vertical-align: middle;\n    }\n\n    .dataframe tbody tr th {\n        vertical-align: top;\n    }\n\n    .dataframe thead th {\n        text-align: right;\n    }\n</style>\n<table border=\"1\" class=\"dataframe\">\n  <thead>\n    <tr style=\"text-align: right;\">\n      <th></th>\n      <th>Pre</th>\n      <th>Truth</th>\n    </tr>\n  </thead>\n  <tbody>\n    <tr>\n      <th>0</th>\n      <td>0.000588</td>\n      <td>0.000573</td>\n    </tr>\n    <tr>\n      <th>1</th>\n      <td>0.000580</td>\n      <td>0.000573</td>\n    </tr>\n    <tr>\n      <th>2</th>\n      <td>0.000577</td>\n      <td>0.000576</td>\n    </tr>\n    <tr>\n      <th>3</th>\n      <td>0.000573</td>\n      <td>0.000568</td>\n    </tr>\n    <tr>\n      <th>4</th>\n      <td>0.000576</td>\n      <td>0.000568</td>\n    </tr>\n    <tr>\n      <th>...</th>\n      <td>...</td>\n      <td>...</td>\n    </tr>\n    <tr>\n      <th>105</th>\n      <td>0.000814</td>\n      <td>0.000808</td>\n    </tr>\n    <tr>\n      <th>106</th>\n      <td>0.000824</td>\n      <td>0.000827</td>\n    </tr>\n    <tr>\n      <th>107</th>\n      <td>0.000833</td>\n      <td>0.000824</td>\n    </tr>\n    <tr>\n      <th>108</th>\n      <td>0.000837</td>\n      <td>0.000839</td>\n    </tr>\n    <tr>\n      <th>109</th>\n      <td>0.000857</td>\n      <td>0.000890</td>\n    </tr>\n  </tbody>\n</table>\n<p>110 rows × 2 columns</p>\n</div>"
     },
     "execution_count": 13,
     "metadata": {},
     "output_type": "execute_result"
    }
   ],
   "source": [
    "import pandas as pd\n",
    "\n",
    "res = pd.DataFrame({\"Pre\": predictions, \"Truth\": ground_truth})\n",
    "\n",
    "res"
   ]
  }
 ],
 "metadata": {
  "kernelspec": {
   "display_name": "Python 3",
   "language": "python",
   "name": "python3"
  },
  "language_info": {
   "codemirror_mode": {
    "name": "ipython",
    "version": 2
   },
   "file_extension": ".py",
   "mimetype": "text/x-python",
   "name": "python",
   "nbconvert_exporter": "python",
   "pygments_lexer": "ipython2",
   "version": "3.9.18"
  }
 },
 "nbformat": 4,
 "nbformat_minor": 0
}
