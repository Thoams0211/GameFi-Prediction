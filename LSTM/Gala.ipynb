{
 "cells": [
  {
   "cell_type": "markdown",
   "metadata": {},
   "source": [
    "# 1. 构建模型"
   ]
  },
  {
   "cell_type": "code",
   "execution_count": 25,
   "metadata": {
    "collapsed": true,
    "ExecuteTime": {
     "end_time": "2023-10-20T05:14:46.439554500Z",
     "start_time": "2023-10-20T05:14:46.316765300Z"
    }
   },
   "outputs": [],
   "source": [
    "import torch\n",
    "import torch.nn as nn\n",
    "import pandas as pd\n",
    "from sklearn.preprocessing import MinMaxScaler\n",
    "\n",
    "\n",
    "# 定义LSTM模型\n",
    "class LSTMModel(nn.Module):\n",
    "    def __init__(self, input_size, hidden_size, num_layers, dropout_prob, output_size):\n",
    "        super(LSTMModel, self).__init__()\n",
    "\n",
    "        self.hidden_size = hidden_size\n",
    "        self.num_layers = num_layers\n",
    "\n",
    "        self.lstm = nn.LSTM(input_size, hidden_size, num_layers, batch_first=True)\n",
    "        self.dropout = nn.Dropout(dropout_prob)\n",
    "        self.fc = nn.Linear(hidden_size, output_size)\n",
    "\n",
    "\n",
    "    def forward(self, _x):\n",
    "\n",
    "        out, _ = self.lstm(_x)  # _x is input, size (seq_len, batch, input_size)\n",
    "        b, h = out.shape  # x is output, size (seq_len, batch, hidden_size)\n",
    "        out = self.fc(out)\n",
    "\n",
    "        return out\n",
    "\n",
    "\n",
    "    def get_data(self, path):\n",
    "\n",
    "        global sequence_len, batch_size, input_size\n",
    "\n",
    "        dataset = pd.read_csv(\n",
    "            path,\n",
    "            engine=\"python\",\n",
    "            parse_dates=[\"timestamp\"],\n",
    "            index_col=[\"timestamp\"],\n",
    "            encoding=\"utf-8\",\n",
    "        )\n",
    "        sequence_len = len(dataset) - 1\n",
    "        columns = [\"open\", \"high\", \"low\", \"close\", \"volume\", \"marketCap\"]\n",
    "        for col in columns:\n",
    "\n",
    "            if col == 'close':\n",
    "                continue\n",
    "\n",
    "            scaler = MinMaxScaler()\n",
    "            dataset[col] = scaler.fit_transform(dataset[col].values.reshape(-1, 1))\n",
    "        X = dataset.drop(columns=[\"close\"], axis=1)\n",
    "        y = dataset[\"close\"]\n",
    "\n",
    "        X = torch.from_numpy(X.values).float()\n",
    "        y = torch.from_numpy(y.values).float()\n",
    "\n",
    "        return X, y"
   ]
  },
  {
   "cell_type": "markdown",
   "metadata": {
    "collapsed": false
   },
   "source": [
    "# 2. 初始化模型"
   ]
  },
  {
   "cell_type": "markdown",
   "metadata": {},
   "source": [
    "## 2.1 设置基本参数"
   ]
  },
  {
   "cell_type": "code",
   "execution_count": 26,
   "metadata": {
    "collapsed": false,
    "ExecuteTime": {
     "end_time": "2023-10-20T05:14:46.443587500Z",
     "start_time": "2023-10-20T05:14:46.333946400Z"
    }
   },
   "outputs": [
    {
     "data": {
      "text/plain": "LSTMModel(\n  (lstm): LSTM(5, 3, batch_first=True)\n  (dropout): Dropout(p=0.2, inplace=False)\n  (fc): Linear(in_features=3, out_features=1, bias=True)\n)"
     },
     "execution_count": 26,
     "metadata": {},
     "output_type": "execute_result"
    }
   ],
   "source": [
    "# # 设置模型参数\n",
    "# input_size = 5\n",
    "# output_size = 1\n",
    "# sequence_len = 0\n",
    "#\n",
    "# hidden_size = 128\n",
    "# # batch_size = 50\n",
    "# num_layers = 1\n",
    "# dropout_prob = 0.2\n",
    "# tot_epoch = 1000\n",
    "# learning_rate = 0.003\n",
    "# l2_reg = 0.0\n",
    "#\n",
    "# # 设置训练，测试集\n",
    "# train_ratio = 0.8\n",
    "\n",
    "# 设置模型参数\n",
    "input_size = 5\n",
    "output_size = 1\n",
    "sequence_len = 0\n",
    "\n",
    "hidden_size = 3\n",
    "# batch_size = 50\n",
    "num_layers = 1\n",
    "dropout_prob = 0.2\n",
    "tot_epoch = 1000\n",
    "learning_rate = 0.003\n",
    "l2_reg = 0.0\n",
    "teacher_len = 50\n",
    "\n",
    "# 设置训练，测试集\n",
    "train_ratio = 0.8\n",
    "\n",
    "# 创建模型实例并将其移动到GPU上\n",
    "model = LSTMModel(input_size, hidden_size, num_layers, dropout_prob, output_size)\n",
    "device = torch.device(\"cuda\")\n",
    "model.to(device)"
   ]
  },
  {
   "cell_type": "markdown",
   "metadata": {
    "collapsed": false
   },
   "source": [
    "## 2.2 设置优化器和损失函数"
   ]
  },
  {
   "cell_type": "code",
   "execution_count": 27,
   "metadata": {
    "collapsed": false,
    "ExecuteTime": {
     "end_time": "2023-10-20T05:14:46.452610700Z",
     "start_time": "2023-10-20T05:14:46.348704500Z"
    }
   },
   "outputs": [],
   "source": [
    "# 定义损失函数和优化器\n",
    "criterion = nn.MSELoss()  # 调用MSE损失函数\n",
    "optimizer = torch.optim.Adam(model.parameters(), lr=learning_rate, weight_decay=l2_reg)  # 调用Adam反向传播，梯度下降算法求解器"
   ]
  },
  {
   "cell_type": "markdown",
   "metadata": {
    "collapsed": false
   },
   "source": [
    "# 3. 获取数据"
   ]
  },
  {
   "cell_type": "code",
   "execution_count": 28,
   "metadata": {
    "collapsed": false,
    "ExecuteTime": {
     "end_time": "2023-10-20T05:14:46.455759600Z",
     "start_time": "2023-10-20T05:14:46.365223400Z"
    }
   },
   "outputs": [],
   "source": [
    "name = \"Gala\"\n",
    "\n",
    "path = \"data/\" + name + \".csv\"\n",
    "\n",
    "input_data, target_data = model.get_data(path)\n",
    "\n",
    "test_len = int(sequence_len * (train_ratio)) - teacher_len\n",
    "test_input = input_data[test_len:]\n",
    "test_target = target_data[test_len:]\n",
    "\n",
    "input_data = input_data[:test_len + teacher_len].to(device)\n",
    "target_data = target_data[:test_len + teacher_len].to(device)\n",
    "target_data = target_data.view(-1, 1)\n",
    "\n",
    "test_target = test_target.to(device)\n",
    "test_target = test_target.view(-1, 1)\n",
    "test_input = test_input.to(device)"
   ]
  },
  {
   "cell_type": "markdown",
   "metadata": {
    "collapsed": false
   },
   "source": [
    "# 4. 训练模型"
   ]
  },
  {
   "cell_type": "code",
   "execution_count": 29,
   "metadata": {
    "collapsed": false,
    "ExecuteTime": {
     "end_time": "2023-10-20T05:14:46.547344100Z",
     "start_time": "2023-10-20T05:14:46.379572Z"
    }
   },
   "outputs": [
    {
     "name": "stdout",
     "output_type": "stream",
     "text": [
      "Epoch [40/1000], Loss: 0.00010\n",
      "The loss value is reached\n"
     ]
    }
   ],
   "source": [
    "prev_loss = 100000\n",
    "output = None\n",
    "\n",
    "epoch = 0\n",
    "loss = 0\n",
    "while True:\n",
    "    if epoch < tot_epoch:\n",
    "        output = model(input_data).to(device)\n",
    "        loss = criterion(output, target_data)\n",
    "\n",
    "        optimizer.zero_grad()\n",
    "        loss.backward()\n",
    "        optimizer.step()\n",
    "\n",
    "        epoch += 1\n",
    "\n",
    "        if loss < prev_loss:\n",
    "            # torch.save(LSTMModel.state_dict(), 'lstm_model.pt')  # save model parameters to files\n",
    "            prev_loss = loss\n",
    "\n",
    "        if loss.item() < 1e-4:\n",
    "            print('Epoch [{}/{}], Loss: {:.5f}'.format(epoch + 1, tot_epoch, loss.item()))\n",
    "            print(\"The loss value is reached\")\n",
    "            break\n",
    "        elif (epoch + 1) % 100 == 0:\n",
    "            print('Epoch: [{}/{}], Loss:{:.5f}'.format(epoch + 1, tot_epoch, loss.item()))\n",
    "    else:\n",
    "        if loss < 0.6:\n",
    "            break\n",
    "        else:\n",
    "            tot_epoch += 500\n",
    "            continue\n"
   ]
  },
  {
   "cell_type": "code",
   "execution_count": 30,
   "outputs": [
    {
     "name": "stdout",
     "output_type": "stream",
     "text": [
      "MAPE (平均绝对百分比误差): 8.520949363708496 %\n"
     ]
    }
   ],
   "source": [
    "def mape(y_true, y_pred):\n",
    "    absolute_percentage_errors = torch.abs((y_true - y_pred) / y_true)\n",
    "    mape = torch.mean(absolute_percentage_errors) * 100\n",
    "    return mape\n",
    "\n",
    "mape_value = mape(target_data, output)\n",
    "print(\"MAPE (平均绝对百分比误差):\", mape_value.item(), \"%\")\n"
   ],
   "metadata": {
    "collapsed": false,
    "ExecuteTime": {
     "end_time": "2023-10-20T05:14:46.591903Z",
     "start_time": "2023-10-20T05:14:46.547344100Z"
    }
   }
  },
  {
   "cell_type": "code",
   "execution_count": 31,
   "outputs": [
    {
     "data": {
      "text/plain": "<Figure size 576x288 with 1 Axes>",
      "image/png": "[encoded data removed]"
     },
     "metadata": {
      "needs_background": "light"
     },
     "output_type": "display_data"
    }
   ],
   "source": [
    "import matplotlib.pyplot as plt\n",
    "\n",
    "# 示例的预测值和真实值\n",
    "predictions = output.view(-1).tolist()\n",
    "ground_truth = target_data.view(-1).tolist()\n",
    "\n",
    "# 创建 x 轴坐标，可以是简单的范围\n",
    "x = range(len(predictions))\n",
    "\n",
    "# 使用Matplotlib绘制折线图\n",
    "plt.figure(figsize=(8, 4))  # 设置图像大小\n",
    "\n",
    "# 绘制预测值的折线\n",
    "plt.plot(predictions, label='Prediction')\n",
    "\n",
    "# 绘制真实值的折线\n",
    "plt.plot(ground_truth, label='Ground Truth')\n",
    "\n",
    "# 添加图例\n",
    "plt.legend()\n",
    "\n",
    "# 添加标签\n",
    "plt.xlabel('Date')\n",
    "plt.ylabel('Value')\n",
    "\n",
    "# 显示网格\n",
    "plt.grid(True)\n",
    "\n",
    "# 显示图像\n",
    "plt.title('Pre vs. Tru')\n",
    "plt.show()\n"
   ],
   "metadata": {
    "collapsed": false,
    "ExecuteTime": {
     "end_time": "2023-10-20T05:14:46.653961200Z",
     "start_time": "2023-10-20T05:14:46.564878800Z"
    }
   }
  },
  {
   "cell_type": "markdown",
   "metadata": {
    "collapsed": false
   },
   "source": [
    "# 5. 预测"
   ]
  },
  {
   "cell_type": "code",
   "execution_count": 32,
   "metadata": {
    "collapsed": false,
    "ExecuteTime": {
     "end_time": "2023-10-20T05:14:46.730161500Z",
     "start_time": "2023-10-20T05:14:46.654965200Z"
    }
   },
   "outputs": [],
   "source": [
    "# 使用模型进行预测\n",
    "model.eval()\n",
    "with torch.no_grad():\n",
    "    prediction = model(test_input)\n",
    "\n",
    "y_pre = prediction.view(-1).tolist()\n",
    "y_tru = test_target.view(-1).tolist()"
   ]
  },
  {
   "cell_type": "markdown",
   "metadata": {
    "collapsed": false
   },
   "source": [
    "# 6. 评估模型"
   ]
  },
  {
   "cell_type": "markdown",
   "metadata": {
    "collapsed": false
   },
   "source": [
    "### 6.1 R^2"
   ]
  },
  {
   "cell_type": "code",
   "execution_count": 33,
   "metadata": {
    "collapsed": false,
    "ExecuteTime": {
     "end_time": "2023-10-20T05:14:46.730161500Z",
     "start_time": "2023-10-20T05:14:46.677482600Z"
    }
   },
   "outputs": [
    {
     "name": "stdout",
     "output_type": "stream",
     "text": [
      "R² (决定系数): 0.28488045930862427\n"
     ]
    }
   ],
   "source": [
    "def r2_score(y_true, y_pred):\n",
    "    ssr = torch.sum((y_true - y_pred)**2)\n",
    "    sst = torch.sum((y_true - torch.mean(y_true))**2)\n",
    "    r2 = 1 - (ssr / sst)\n",
    "    return r2\n",
    "\n",
    "r_squared = r2_score(test_target[teacher_len:], prediction[teacher_len:])\n",
    "print(\"R² (决定系数):\", r_squared.item())\n"
   ]
  },
  {
   "cell_type": "markdown",
   "metadata": {
    "collapsed": false
   },
   "source": [
    "### 6.2 MAPE"
   ]
  },
  {
   "cell_type": "code",
   "execution_count": 34,
   "metadata": {
    "collapsed": false,
    "ExecuteTime": {
     "end_time": "2023-10-20T05:14:46.731161600Z",
     "start_time": "2023-10-20T05:14:46.687141600Z"
    }
   },
   "outputs": [
    {
     "name": "stdout",
     "output_type": "stream",
     "text": [
      "MAPE (平均绝对百分比误差): 15.312054634094238 %\n"
     ]
    }
   ],
   "source": [
    "def mape(y_true, y_pred):\n",
    "    absolute_percentage_errors = torch.abs((y_true - y_pred) / y_true)\n",
    "    mape = torch.mean(absolute_percentage_errors) * 100\n",
    "    return mape\n",
    "\n",
    "mape_value = mape(test_target[teacher_len:], prediction[teacher_len:])\n",
    "print(\"MAPE (平均绝对百分比误差):\", mape_value.item(), \"%\")\n"
   ]
  },
  {
   "cell_type": "markdown",
   "metadata": {
    "collapsed": false
   },
   "source": [
    "### 6.3 绘制图像"
   ]
  },
  {
   "cell_type": "code",
   "execution_count": 35,
   "metadata": {
    "collapsed": false,
    "ExecuteTime": {
     "end_time": "2023-10-20T05:14:46.828183800Z",
     "start_time": "2023-10-20T05:14:46.703389300Z"
    }
   },
   "outputs": [
    {
     "data": {
      "text/plain": "<Figure size 576x288 with 1 Axes>",
      "image/png": "[encoded data removed]"
     },
     "metadata": {
      "needs_background": "light"
     },
     "output_type": "display_data"
    }
   ],
   "source": [
    "import matplotlib.pyplot as plt\n",
    "\n",
    "# 示例的预测值和真实值\n",
    "predictions = y_pre[teacher_len:]\n",
    "ground_truth = y_tru[teacher_len:]\n",
    "\n",
    "# 创建 x 轴坐标，可以是简单的范围\n",
    "x = range(len(predictions))\n",
    "\n",
    "# 使用Matplotlib绘制折线图\n",
    "plt.figure(figsize=(8, 4))  # 设置图像大小\n",
    "\n",
    "# 绘制预测值的折线\n",
    "plt.plot(predictions, label='Prediction')\n",
    "\n",
    "# 绘制真实值的折线\n",
    "plt.plot(ground_truth, label='Ground Truth')\n",
    "\n",
    "# 添加图例\n",
    "plt.legend()\n",
    "\n",
    "# 添加标签\n",
    "plt.xlabel('Date')\n",
    "plt.ylabel('Value')\n",
    "\n",
    "# 显示网格\n",
    "plt.grid(True)\n",
    "\n",
    "# 显示图像\n",
    "plt.title('Pre vs. Tru')\n",
    "plt.show()\n"
   ]
  },
  {
   "cell_type": "markdown",
   "metadata": {
    "collapsed": false
   },
   "source": [
    "### 6.4 输出预测值和真实值"
   ]
  },
  {
   "cell_type": "code",
   "execution_count": 36,
   "metadata": {
    "collapsed": false,
    "ExecuteTime": {
     "end_time": "2023-10-20T05:14:46.829185400Z",
     "start_time": "2023-10-20T05:14:46.793174800Z"
    }
   },
   "outputs": [
    {
     "data": {
      "text/plain": "          Pre     Truth\n0    0.033648  0.031290\n1    0.033779  0.030130\n2    0.033606  0.029998\n3    0.033327  0.029440\n4    0.033222  0.029769\n..        ...       ...\n122  0.014760  0.013282\n123  0.014781  0.013465\n124  0.014822  0.014365\n125  0.015041  0.014232\n126  0.015284  0.015022\n\n[127 rows x 2 columns]",
      "text/html": "<div>\n<style scoped>\n    .dataframe tbody tr th:only-of-type {\n        vertical-align: middle;\n    }\n\n    .dataframe tbody tr th {\n        vertical-align: top;\n    }\n\n    .dataframe thead th {\n        text-align: right;\n    }\n</style>\n<table border=\"1\" class=\"dataframe\">\n  <thead>\n    <tr style=\"text-align: right;\">\n      <th></th>\n      <th>Pre</th>\n      <th>Truth</th>\n    </tr>\n  </thead>\n  <tbody>\n    <tr>\n      <th>0</th>\n      <td>0.033648</td>\n      <td>0.031290</td>\n    </tr>\n    <tr>\n      <th>1</th>\n      <td>0.033779</td>\n      <td>0.030130</td>\n    </tr>\n    <tr>\n      <th>2</th>\n      <td>0.033606</td>\n      <td>0.029998</td>\n    </tr>\n    <tr>\n      <th>3</th>\n      <td>0.033327</td>\n      <td>0.029440</td>\n    </tr>\n    <tr>\n      <th>4</th>\n      <td>0.033222</td>\n      <td>0.029769</td>\n    </tr>\n    <tr>\n      <th>...</th>\n      <td>...</td>\n      <td>...</td>\n    </tr>\n    <tr>\n      <th>122</th>\n      <td>0.014760</td>\n      <td>0.013282</td>\n    </tr>\n    <tr>\n      <th>123</th>\n      <td>0.014781</td>\n      <td>0.013465</td>\n    </tr>\n    <tr>\n      <th>124</th>\n      <td>0.014822</td>\n      <td>0.014365</td>\n    </tr>\n    <tr>\n      <th>125</th>\n      <td>0.015041</td>\n      <td>0.014232</td>\n    </tr>\n    <tr>\n      <th>126</th>\n      <td>0.015284</td>\n      <td>0.015022</td>\n    </tr>\n  </tbody>\n</table>\n<p>127 rows × 2 columns</p>\n</div>"
     },
     "execution_count": 36,
     "metadata": {},
     "output_type": "execute_result"
    }
   ],
   "source": [
    "import pandas as pd\n",
    "\n",
    "res = pd.DataFrame({\"Pre\": predictions, \"Truth\": ground_truth})\n",
    "\n",
    "res"
   ]
  }
 ],
 "metadata": {
  "kernelspec": {
   "display_name": "Python 3",
   "language": "python",
   "name": "python3"
  },
  "language_info": {
   "codemirror_mode": {
    "name": "ipython",
    "version": 2
   },
   "file_extension": ".py",
   "mimetype": "text/x-python",
   "name": "python",
   "nbconvert_exporter": "python",
   "pygments_lexer": "ipython2",
   "version": "3.9.18"
  }
 },
 "nbformat": 4,
 "nbformat_minor": 0
}
