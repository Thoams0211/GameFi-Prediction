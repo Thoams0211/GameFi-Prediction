{
 "cells": [
  {
   "cell_type": "markdown",
   "metadata": {},
   "source": [
    "# 1. 构建模型"
   ]
  },
  {
   "cell_type": "code",
   "execution_count": 40,
   "metadata": {
    "collapsed": true,
    "ExecuteTime": {
     "end_time": "2023-10-20T02:40:56.609306900Z",
     "start_time": "2023-10-20T02:40:56.514246200Z"
    }
   },
   "outputs": [],
   "source": [
    "import torch\n",
    "import torch.nn as nn\n",
    "import pandas as pd\n",
    "from sklearn.preprocessing import MinMaxScaler\n",
    "import numpy as np\n",
    "\n",
    "\n",
    "# 定义LSTM模型\n",
    "class LSTMModel(nn.Module):\n",
    "    def __init__(self, input_size, hidden_size, num_layers, dropout_prob, output_size):\n",
    "        super(LSTMModel, self).__init__()\n",
    "\n",
    "        self.hidden_size = hidden_size\n",
    "        self.num_layers = num_layers\n",
    "\n",
    "        self.lstm = nn.LSTM(input_size, hidden_size, num_layers, batch_first=True)\n",
    "        self.dropout = nn.Dropout(dropout_prob)\n",
    "        self.fc = nn.Linear(hidden_size, output_size)\n",
    "\n",
    "\n",
    "    def forward(self, _x):\n",
    "\n",
    "        out, _ = self.lstm(_x)  # _x is input, size (seq_len, batch, input_size)\n",
    "        b, h = out.shape  # x is output, size (seq_len, batch, hidden_size)\n",
    "        out = self.fc(out)\n",
    "\n",
    "        return out\n",
    "\n",
    "\n",
    "    def get_data(self, path):\n",
    "\n",
    "        global sequence_len, batch_size, input_size, ori_y_min, ori_y_max, scaler\n",
    "\n",
    "        dataset = pd.read_csv(\n",
    "            path,\n",
    "            engine=\"python\",\n",
    "            parse_dates=[\"timestamp\"],\n",
    "            index_col=[\"timestamp\"],\n",
    "            encoding=\"utf-8\",\n",
    "        )\n",
    "        sequence_len = len(dataset) - 1\n",
    "        columns = [\"open\", \"high\", \"low\", \"close\", \"volume\"]\n",
    "        for col in columns:\n",
    "\n",
    "            if col == 'close':\n",
    "                ori_y_min = pd.DataFrame.min(dataset[col])\n",
    "                ori_y_max = pd.DataFrame.max(dataset[col])\n",
    "\n",
    "\n",
    "            scaler = MinMaxScaler()\n",
    "            dataset[col] = scaler.fit_transform(dataset[col].values.reshape(-1, 1))\n",
    "        X = dataset.drop(columns=[\"close\"], axis=1)\n",
    "        y = dataset[\"close\"]\n",
    "\n",
    "        X = torch.from_numpy(X.values).float()\n",
    "        y = torch.from_numpy(y.values).float()\n",
    "\n",
    "        return X, y\n"
   ]
  },
  {
   "cell_type": "markdown",
   "metadata": {
    "collapsed": false
   },
   "source": [
    "# 2. 初始化模型"
   ]
  },
  {
   "cell_type": "markdown",
   "metadata": {},
   "source": [
    "## 2.1 设置基本参数"
   ]
  },
  {
   "cell_type": "code",
   "execution_count": 41,
   "metadata": {
    "collapsed": false,
    "ExecuteTime": {
     "end_time": "2023-10-20T02:40:56.691466500Z",
     "start_time": "2023-10-20T02:40:56.525758600Z"
    }
   },
   "outputs": [
    {
     "data": {
      "text/plain": "LSTMModel(\n  (lstm): LSTM(4, 150, batch_first=True)\n  (dropout): Dropout(p=0.2, inplace=False)\n  (fc): Linear(in_features=150, out_features=1, bias=True)\n)"
     },
     "execution_count": 41,
     "metadata": {},
     "output_type": "execute_result"
    }
   ],
   "source": [
    "# 设置模型参数\n",
    "input_size = 4\n",
    "output_size = 1\n",
    "sequence_len = 0\n",
    "\n",
    "hidden_size = 150\n",
    "# batch_size = 50\n",
    "num_layers = 1\n",
    "dropout_prob = 0.2\n",
    "tot_epoch = 1000\n",
    "learning_rate = 0.003\n",
    "l2_reg = 0.001\n",
    "teacher_len = 50\n",
    "\n",
    "# 设置训练，测试集\n",
    "train_ratio = 0.8\n",
    "\n",
    "# 创建模型实例并将其移动到GPU上\n",
    "model = LSTMModel(input_size, hidden_size, num_layers, dropout_prob, output_size)\n",
    "device = torch.device(\"cuda\")\n",
    "model.to(device)"
   ]
  },
  {
   "cell_type": "markdown",
   "metadata": {
    "collapsed": false
   },
   "source": [
    "## 2.2 设置优化器和损失函数"
   ]
  },
  {
   "cell_type": "code",
   "execution_count": 42,
   "metadata": {
    "collapsed": false,
    "ExecuteTime": {
     "end_time": "2023-10-20T02:40:56.693468400Z",
     "start_time": "2023-10-20T02:40:56.541860900Z"
    }
   },
   "outputs": [],
   "source": [
    "# 定义损失函数和优化器\n",
    "criterion = nn.MSELoss()  # 调用MSE损失函数\n",
    "optimizer = torch.optim.Adam(model.parameters(), lr=learning_rate, weight_decay=l2_reg)  # 调用Adam反向传播，梯度下降算法求解器"
   ]
  },
  {
   "cell_type": "markdown",
   "source": [
    "## 2.3 scaler逆操作"
   ],
   "metadata": {
    "collapsed": false
   }
  },
  {
   "cell_type": "code",
   "execution_count": 43,
   "outputs": [],
   "source": [
    "def inverse_min_max_scale(scaled_tensor, min_val, max_val):\n",
    "    # 逆操作：将缩放后的张量还原为原始范围\n",
    "    original_tensor = scaled_tensor * (max_val - min_val) + min_val\n",
    "    return original_tensor"
   ],
   "metadata": {
    "collapsed": false,
    "ExecuteTime": {
     "end_time": "2023-10-20T02:40:56.695468900Z",
     "start_time": "2023-10-20T02:40:56.557981400Z"
    }
   }
  },
  {
   "cell_type": "markdown",
   "metadata": {
    "collapsed": false
   },
   "source": [
    "# 3. 获取数据"
   ]
  },
  {
   "cell_type": "code",
   "execution_count": 44,
   "metadata": {
    "collapsed": false,
    "ExecuteTime": {
     "end_time": "2023-10-20T02:40:56.705478900Z",
     "start_time": "2023-10-20T02:40:56.572239800Z"
    }
   },
   "outputs": [],
   "source": [
    "name = \"Echelon\"\n",
    "path = \"data/\" + name + \".csv\"\n",
    "\n",
    "ori_y_min = 0\n",
    "ori_y_max = 0\n",
    "scaler = None\n",
    "\n",
    "input_data, target_data = model.get_data(path)\n",
    "\n",
    "test_len = int(sequence_len * (train_ratio)) - teacher_len\n",
    "test_input = input_data[test_len:]\n",
    "test_target = target_data[test_len:]\n",
    "\n",
    "input_data = input_data[:test_len + teacher_len].to(device)\n",
    "target_data = target_data[:test_len + teacher_len].to(device)\n",
    "target_data = target_data.view(-1, 1)\n",
    "\n",
    "test_target = test_target.to(device)\n",
    "test_target = test_target.view(-1, 1)\n",
    "test_input = test_input.to(device)"
   ]
  },
  {
   "cell_type": "markdown",
   "metadata": {
    "collapsed": false
   },
   "source": [
    "# 4. 训练模型"
   ]
  },
  {
   "cell_type": "code",
   "execution_count": 45,
   "metadata": {
    "collapsed": false,
    "ExecuteTime": {
     "end_time": "2023-10-20T02:41:03.214090300Z",
     "start_time": "2023-10-20T02:40:56.591065400Z"
    }
   },
   "outputs": [
    {
     "name": "stdout",
     "output_type": "stream",
     "text": [
      "Epoch: [100/1000], Loss:0.00193\n",
      "Epoch: [200/1000], Loss:0.00168\n",
      "Epoch: [300/1000], Loss:0.00161\n",
      "Epoch: [400/1000], Loss:0.00157\n",
      "Epoch: [500/1000], Loss:0.00156\n",
      "Epoch: [600/1000], Loss:0.00155\n",
      "Epoch: [700/1000], Loss:0.00155\n",
      "Epoch: [800/1000], Loss:0.00155\n",
      "Epoch: [900/1000], Loss:0.00154\n",
      "Epoch: [1000/1000], Loss:0.00154\n"
     ]
    }
   ],
   "source": [
    "prev_loss = 20000\n",
    "output = None\n",
    "\n",
    "epoch = 0\n",
    "loss = 0\n",
    "while True:\n",
    "\n",
    "    if epoch == 1999:\n",
    "        break\n",
    "\n",
    "    if epoch < tot_epoch:\n",
    "        output = model(input_data).to(device)\n",
    "        loss = criterion(output, target_data)\n",
    "\n",
    "        optimizer.zero_grad()\n",
    "        loss.backward()\n",
    "        optimizer.step()\n",
    "\n",
    "        epoch += 1\n",
    "\n",
    "        if loss < prev_loss:\n",
    "            # torch.save(LSTMModel.state_dict(), 'lstm_model.pt')  # save model parameters to files\n",
    "            prev_loss = loss\n",
    "\n",
    "        if loss.item() < 1e-4:\n",
    "            print('Epoch [{}/{}], Loss: {:.5f}'.format(epoch + 1, tot_epoch, loss.item()))\n",
    "            print(\"The loss value is reached\")\n",
    "            break\n",
    "        elif (epoch + 1) % 100 == 0:\n",
    "            print('Epoch: [{}/{}], Loss:{:.5f}'.format(epoch + 1, tot_epoch, loss.item()))\n",
    "    else:\n",
    "        if loss < 0.6:\n",
    "            break\n",
    "        else:\n",
    "            tot_epoch += 500\n",
    "            continue\n"
   ]
  },
  {
   "cell_type": "code",
   "execution_count": 46,
   "outputs": [
    {
     "name": "stdout",
     "output_type": "stream",
     "text": [
      "MAPE (平均绝对百分比误差): 3.8113129138946533 %\n"
     ]
    }
   ],
   "source": [
    "def mape(y_true, y_pred):\n",
    "    absolute_percentage_errors = torch.abs((y_true - y_pred) / y_true)\n",
    "    mape = torch.mean(absolute_percentage_errors) * 100\n",
    "    return mape\n",
    "\n",
    "target_data = inverse_min_max_scale(target_data, ori_y_min, ori_y_max)\n",
    "output = inverse_min_max_scale(output, ori_y_min, ori_y_max)\n",
    "\n",
    "mape_value = mape(target_data, output)\n",
    "print(\"MAPE (平均绝对百分比误差):\", mape_value.item(), \"%\")\n"
   ],
   "metadata": {
    "collapsed": false,
    "ExecuteTime": {
     "end_time": "2023-10-20T02:41:03.252469300Z",
     "start_time": "2023-10-20T02:41:03.210408200Z"
    }
   }
  },
  {
   "cell_type": "code",
   "execution_count": 47,
   "outputs": [
    {
     "data": {
      "text/plain": "<Figure size 576x288 with 1 Axes>",
      "image/png": "[encoded data removed]"
     },
     "metadata": {
      "needs_background": "light"
     },
     "output_type": "display_data"
    }
   ],
   "source": [
    "import matplotlib.pyplot as plt\n",
    "\n",
    "# 示例的预测值和真实值\n",
    "predictions = output.view(-1).tolist()\n",
    "ground_truth = target_data.view(-1).tolist()\n",
    "\n",
    "# 创建 x 轴坐标，可以是简单的范围\n",
    "x = range(len(predictions))\n",
    "\n",
    "# 使用Matplotlib绘制折线图\n",
    "plt.figure(figsize=(8, 4))  # 设置图像大小\n",
    "\n",
    "# 绘制预测值的折线\n",
    "plt.plot(predictions, label='Prediction')\n",
    "\n",
    "# 绘制真实值的折线\n",
    "plt.plot(ground_truth, label='Ground Truth')\n",
    "\n",
    "# 添加图例\n",
    "plt.legend()\n",
    "\n",
    "# 添加标签\n",
    "plt.xlabel('Date')\n",
    "plt.ylabel('Value')\n",
    "\n",
    "# 显示网格\n",
    "plt.grid(True)\n",
    "\n",
    "# 显示图像\n",
    "plt.title('Pre vs. Tru')\n",
    "plt.show()\n"
   ],
   "metadata": {
    "collapsed": false,
    "ExecuteTime": {
     "end_time": "2023-10-20T02:41:03.332469200Z",
     "start_time": "2023-10-20T02:41:03.225565400Z"
    }
   }
  },
  {
   "cell_type": "markdown",
   "metadata": {
    "collapsed": false
   },
   "source": [
    "# 5. 预测"
   ]
  },
  {
   "cell_type": "code",
   "execution_count": 48,
   "metadata": {
    "collapsed": false,
    "ExecuteTime": {
     "end_time": "2023-10-20T02:41:03.383204600Z",
     "start_time": "2023-10-20T02:41:03.332469200Z"
    }
   },
   "outputs": [],
   "source": [
    "# 使用模型进行预测\n",
    "model.eval()\n",
    "with torch.no_grad():\n",
    "    prediction = model(test_input)\n",
    "\n",
    "test_target = inverse_min_max_scale(test_target, ori_y_min, ori_y_max)\n",
    "prediction = inverse_min_max_scale(prediction, ori_y_min, ori_y_max)\n",
    "\n",
    "y_pre = prediction.view(-1).tolist()\n",
    "y_tru = test_target.view(-1).tolist()"
   ]
  },
  {
   "cell_type": "markdown",
   "metadata": {
    "collapsed": false
   },
   "source": [
    "# 6. 评估模型"
   ]
  },
  {
   "cell_type": "markdown",
   "metadata": {
    "collapsed": false
   },
   "source": [
    "### 6.1 R^2"
   ]
  },
  {
   "cell_type": "code",
   "execution_count": 49,
   "metadata": {
    "collapsed": false,
    "ExecuteTime": {
     "end_time": "2023-10-20T02:41:03.384204700Z",
     "start_time": "2023-10-20T02:41:03.349551100Z"
    }
   },
   "outputs": [
    {
     "name": "stdout",
     "output_type": "stream",
     "text": [
      "R² (决定系数): 0.8678202629089355\n"
     ]
    }
   ],
   "source": [
    "def r2_score(y_true, y_pred):\n",
    "    ssr = torch.sum((y_true - y_pred)**2)\n",
    "    sst = torch.sum((y_true - torch.mean(y_true))**2)\n",
    "    r2 = 1 - (ssr / sst)\n",
    "    return r2\n",
    "\n",
    "r_squared = r2_score(test_target[teacher_len:], prediction[teacher_len:])\n",
    "print(\"R² (决定系数):\", r_squared.item())\n"
   ]
  },
  {
   "cell_type": "markdown",
   "metadata": {
    "collapsed": false
   },
   "source": [
    "### 6.2 MAPE"
   ]
  },
  {
   "cell_type": "code",
   "execution_count": 50,
   "metadata": {
    "collapsed": false,
    "ExecuteTime": {
     "end_time": "2023-10-20T02:41:03.384204700Z",
     "start_time": "2023-10-20T02:41:03.363942Z"
    }
   },
   "outputs": [
    {
     "name": "stdout",
     "output_type": "stream",
     "text": [
      "MAPE (平均绝对百分比误差): 3.6312170028686523 %\n"
     ]
    }
   ],
   "source": [
    "def mape(y_true, y_pred):\n",
    "    absolute_percentage_errors = torch.abs((y_true - y_pred) / y_true)\n",
    "    mape = torch.mean(absolute_percentage_errors) * 100\n",
    "    return mape\n",
    "\n",
    "mape_value = mape(test_target[teacher_len:], prediction[teacher_len:])\n",
    "print(\"MAPE (平均绝对百分比误差):\", mape_value.item(), \"%\")\n"
   ]
  },
  {
   "cell_type": "markdown",
   "metadata": {
    "collapsed": false
   },
   "source": [
    "### 6.3 绘制图像"
   ]
  },
  {
   "cell_type": "code",
   "execution_count": 51,
   "metadata": {
    "collapsed": false,
    "ExecuteTime": {
     "end_time": "2023-10-20T02:41:03.470002600Z",
     "start_time": "2023-10-20T02:41:03.380204Z"
    }
   },
   "outputs": [
    {
     "data": {
      "text/plain": "<Figure size 576x288 with 1 Axes>",
      "image/png": "[encoded data removed]"
     },
     "metadata": {
      "needs_background": "light"
     },
     "output_type": "display_data"
    }
   ],
   "source": [
    "import matplotlib.pyplot as plt\n",
    "\n",
    "# 示例的预测值和真实值\n",
    "predictions = y_pre[teacher_len:]\n",
    "ground_truth = y_tru[teacher_len:]\n",
    "\n",
    "# 创建 x 轴坐标，可以是简单的范围\n",
    "x = range(len(predictions))\n",
    "\n",
    "# 使用Matplotlib绘制折线图\n",
    "plt.figure(figsize=(8, 4))  # 设置图像大小\n",
    "\n",
    "# 绘制预测值的折线\n",
    "plt.plot(predictions, label='Prediction')\n",
    "\n",
    "# 绘制真实值的折线\n",
    "plt.plot(ground_truth, label='Ground Truth')\n",
    "\n",
    "# 添加图例\n",
    "plt.legend()\n",
    "\n",
    "# 添加标签\n",
    "plt.xlabel('Date')\n",
    "plt.ylabel('Value')\n",
    "\n",
    "# 显示网格\n",
    "plt.grid(True)\n",
    "\n",
    "# 显示图像\n",
    "plt.title('Pre vs. Tru')\n",
    "plt.show()\n"
   ]
  },
  {
   "cell_type": "markdown",
   "metadata": {
    "collapsed": false
   },
   "source": [
    "### 6.4 输出预测值和真实值"
   ]
  },
  {
   "cell_type": "code",
   "execution_count": 52,
   "metadata": {
    "collapsed": false,
    "ExecuteTime": {
     "end_time": "2023-10-20T02:41:03.485896600Z",
     "start_time": "2023-10-20T02:41:03.472008600Z"
    }
   },
   "outputs": [
    {
     "data": {
      "text/plain": "         Pre     Truth\n0   3.018008  3.104104\n1   3.028559  3.119232\n2   3.104604  3.322943\n3   3.235402  3.574690\n4   3.501658  3.674944\n5   3.682885  4.205196\n6   3.895595  4.042274\n7   3.959670  4.133781\n8   4.116445  4.487824\n9   4.114361  4.093890\n10  4.086035  4.168170\n11  4.103996  4.205409\n12  4.083665  4.068358\n13  3.927742  3.797089\n14  3.863962  3.858175\n15  3.738180  3.592768\n16  3.670334  3.581393\n17  3.547584  3.650388\n18  3.585876  3.712205\n19  3.573081  3.636144\n20  3.529333  3.582929\n21  3.501264  3.593728\n22  3.487466  3.536505\n23  3.442585  3.446544\n24  3.379476  3.453899\n25  3.423507  3.661937\n26  3.587198  3.875797\n27  3.665514  3.719754\n28  3.641316  3.711352\n29  3.657639  3.830904\n30  3.600143  3.555725\n31  3.491177  3.389390\n32  3.403268  3.359881\n33  3.299878  3.210448\n34  3.179880  3.067386\n35  3.060674  2.987423\n36  2.947344  2.843599\n37  2.803686  2.597631\n38  2.718286  2.799931\n39  2.720558  2.784258\n40  2.710024  2.751404\n41  2.707849  2.784685\n42  2.744276  2.864315\n43  2.796927  2.900380\n44  2.857134  3.012684\n45  3.017026  3.419143\n46  3.135204  3.220195\n47  3.148441  3.266115",
      "text/html": "<div>\n<style scoped>\n    .dataframe tbody tr th:only-of-type {\n        vertical-align: middle;\n    }\n\n    .dataframe tbody tr th {\n        vertical-align: top;\n    }\n\n    .dataframe thead th {\n        text-align: right;\n    }\n</style>\n<table border=\"1\" class=\"dataframe\">\n  <thead>\n    <tr style=\"text-align: right;\">\n      <th></th>\n      <th>Pre</th>\n      <th>Truth</th>\n    </tr>\n  </thead>\n  <tbody>\n    <tr>\n      <th>0</th>\n      <td>3.018008</td>\n      <td>3.104104</td>\n    </tr>\n    <tr>\n      <th>1</th>\n      <td>3.028559</td>\n      <td>3.119232</td>\n    </tr>\n    <tr>\n      <th>2</th>\n      <td>3.104604</td>\n      <td>3.322943</td>\n    </tr>\n    <tr>\n      <th>3</th>\n      <td>3.235402</td>\n      <td>3.574690</td>\n    </tr>\n    <tr>\n      <th>4</th>\n      <td>3.501658</td>\n      <td>3.674944</td>\n    </tr>\n    <tr>\n      <th>5</th>\n      <td>3.682885</td>\n      <td>4.205196</td>\n    </tr>\n    <tr>\n      <th>6</th>\n      <td>3.895595</td>\n      <td>4.042274</td>\n    </tr>\n    <tr>\n      <th>7</th>\n      <td>3.959670</td>\n      <td>4.133781</td>\n    </tr>\n    <tr>\n      <th>8</th>\n      <td>4.116445</td>\n      <td>4.487824</td>\n    </tr>\n    <tr>\n      <th>9</th>\n      <td>4.114361</td>\n      <td>4.093890</td>\n    </tr>\n    <tr>\n      <th>10</th>\n      <td>4.086035</td>\n      <td>4.168170</td>\n    </tr>\n    <tr>\n      <th>11</th>\n      <td>4.103996</td>\n      <td>4.205409</td>\n    </tr>\n    <tr>\n      <th>12</th>\n      <td>4.083665</td>\n      <td>4.068358</td>\n    </tr>\n    <tr>\n      <th>13</th>\n      <td>3.927742</td>\n      <td>3.797089</td>\n    </tr>\n    <tr>\n      <th>14</th>\n      <td>3.863962</td>\n      <td>3.858175</td>\n    </tr>\n    <tr>\n      <th>15</th>\n      <td>3.738180</td>\n      <td>3.592768</td>\n    </tr>\n    <tr>\n      <th>16</th>\n      <td>3.670334</td>\n      <td>3.581393</td>\n    </tr>\n    <tr>\n      <th>17</th>\n      <td>3.547584</td>\n      <td>3.650388</td>\n    </tr>\n    <tr>\n      <th>18</th>\n      <td>3.585876</td>\n      <td>3.712205</td>\n    </tr>\n    <tr>\n      <th>19</th>\n      <td>3.573081</td>\n      <td>3.636144</td>\n    </tr>\n    <tr>\n      <th>20</th>\n      <td>3.529333</td>\n      <td>3.582929</td>\n    </tr>\n    <tr>\n      <th>21</th>\n      <td>3.501264</td>\n      <td>3.593728</td>\n    </tr>\n    <tr>\n      <th>22</th>\n      <td>3.487466</td>\n      <td>3.536505</td>\n    </tr>\n    <tr>\n      <th>23</th>\n      <td>3.442585</td>\n      <td>3.446544</td>\n    </tr>\n    <tr>\n      <th>24</th>\n      <td>3.379476</td>\n      <td>3.453899</td>\n    </tr>\n    <tr>\n      <th>25</th>\n      <td>3.423507</td>\n      <td>3.661937</td>\n    </tr>\n    <tr>\n      <th>26</th>\n      <td>3.587198</td>\n      <td>3.875797</td>\n    </tr>\n    <tr>\n      <th>27</th>\n      <td>3.665514</td>\n      <td>3.719754</td>\n    </tr>\n    <tr>\n      <th>28</th>\n      <td>3.641316</td>\n      <td>3.711352</td>\n    </tr>\n    <tr>\n      <th>29</th>\n      <td>3.657639</td>\n      <td>3.830904</td>\n    </tr>\n    <tr>\n      <th>30</th>\n      <td>3.600143</td>\n      <td>3.555725</td>\n    </tr>\n    <tr>\n      <th>31</th>\n      <td>3.491177</td>\n      <td>3.389390</td>\n    </tr>\n    <tr>\n      <th>32</th>\n      <td>3.403268</td>\n      <td>3.359881</td>\n    </tr>\n    <tr>\n      <th>33</th>\n      <td>3.299878</td>\n      <td>3.210448</td>\n    </tr>\n    <tr>\n      <th>34</th>\n      <td>3.179880</td>\n      <td>3.067386</td>\n    </tr>\n    <tr>\n      <th>35</th>\n      <td>3.060674</td>\n      <td>2.987423</td>\n    </tr>\n    <tr>\n      <th>36</th>\n      <td>2.947344</td>\n      <td>2.843599</td>\n    </tr>\n    <tr>\n      <th>37</th>\n      <td>2.803686</td>\n      <td>2.597631</td>\n    </tr>\n    <tr>\n      <th>38</th>\n      <td>2.718286</td>\n      <td>2.799931</td>\n    </tr>\n    <tr>\n      <th>39</th>\n      <td>2.720558</td>\n      <td>2.784258</td>\n    </tr>\n    <tr>\n      <th>40</th>\n      <td>2.710024</td>\n      <td>2.751404</td>\n    </tr>\n    <tr>\n      <th>41</th>\n      <td>2.707849</td>\n      <td>2.784685</td>\n    </tr>\n    <tr>\n      <th>42</th>\n      <td>2.744276</td>\n      <td>2.864315</td>\n    </tr>\n    <tr>\n      <th>43</th>\n      <td>2.796927</td>\n      <td>2.900380</td>\n    </tr>\n    <tr>\n      <th>44</th>\n      <td>2.857134</td>\n      <td>3.012684</td>\n    </tr>\n    <tr>\n      <th>45</th>\n      <td>3.017026</td>\n      <td>3.419143</td>\n    </tr>\n    <tr>\n      <th>46</th>\n      <td>3.135204</td>\n      <td>3.220195</td>\n    </tr>\n    <tr>\n      <th>47</th>\n      <td>3.148441</td>\n      <td>3.266115</td>\n    </tr>\n  </tbody>\n</table>\n</div>"
     },
     "execution_count": 52,
     "metadata": {},
     "output_type": "execute_result"
    }
   ],
   "source": [
    "import pandas as pd\n",
    "\n",
    "res = pd.DataFrame({\"Pre\": predictions, \"Truth\": ground_truth})\n",
    "\n",
    "res"
   ]
  }
 ],
 "metadata": {
  "kernelspec": {
   "display_name": "Python 3",
   "language": "python",
   "name": "python3"
  },
  "language_info": {
   "codemirror_mode": {
    "name": "ipython",
    "version": 2
   },
   "file_extension": ".py",
   "mimetype": "text/x-python",
   "name": "python",
   "nbconvert_exporter": "python",
   "pygments_lexer": "ipython2",
   "version": "3.9.18"
  }
 },
 "nbformat": 4,
 "nbformat_minor": 0
}
