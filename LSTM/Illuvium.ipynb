{
 "cells": [
  {
   "cell_type": "markdown",
   "metadata": {},
   "source": [
    "# 1. 构建模型"
   ]
  },
  {
   "cell_type": "code",
   "execution_count": 53,
   "metadata": {
    "collapsed": true,
    "ExecuteTime": {
     "end_time": "2023-10-20T05:26:30.163690600Z",
     "start_time": "2023-10-20T05:26:29.976053400Z"
    }
   },
   "outputs": [],
   "source": [
    "import torch\n",
    "import torch.nn as nn\n",
    "import pandas as pd\n",
    "from sklearn.preprocessing import MinMaxScaler\n",
    "import numpy as np\n",
    "\n",
    "\n",
    "# 定义LSTM模型\n",
    "class LSTMModel(nn.Module):\n",
    "    def __init__(self, input_size, hidden_size, num_layers, dropout_prob, output_size):\n",
    "        super(LSTMModel, self).__init__()\n",
    "\n",
    "        self.hidden_size = hidden_size\n",
    "        self.num_layers = num_layers\n",
    "\n",
    "        self.lstm = nn.LSTM(input_size, hidden_size, num_layers, batch_first=True)\n",
    "        self.dropout = nn.Dropout(dropout_prob)\n",
    "        self.fc = nn.Linear(hidden_size, output_size)\n",
    "\n",
    "\n",
    "    def forward(self, _x):\n",
    "\n",
    "        out, _ = self.lstm(_x)  # _x is input, size (seq_len, batch, input_size)\n",
    "        b, h = out.shape  # x is output, size (seq_len, batch, hidden_size)\n",
    "        out = self.fc(out)\n",
    "\n",
    "        return out\n",
    "\n",
    "\n",
    "    def get_data(self, path):\n",
    "\n",
    "        global sequence_len, batch_size, input_size, ori_y_min, ori_y_max, scaler\n",
    "\n",
    "        dataset = pd.read_csv(\n",
    "            path,\n",
    "            engine=\"python\",\n",
    "            parse_dates=[\"timestamp\"],\n",
    "            index_col=[\"timestamp\"],\n",
    "            encoding=\"utf-8\",\n",
    "        )\n",
    "        sequence_len = len(dataset) - 1\n",
    "        columns = [\"open\", \"high\", \"low\", \"close\", \"volume\", \"marketCap\"]\n",
    "        for col in columns:\n",
    "\n",
    "            if col == 'close':\n",
    "                ori_y_min = pd.DataFrame.min(dataset[col])\n",
    "                ori_y_max = pd.DataFrame.max(dataset[col])\n",
    "\n",
    "                print(ori_y_max, ori_y_min)\n",
    "\n",
    "            scaler = MinMaxScaler()\n",
    "            dataset[col] = scaler.fit_transform(dataset[col].values.reshape(-1, 1))\n",
    "        X = dataset.drop(columns=[\"close\"], axis=1)\n",
    "        y = dataset[\"close\"]\n",
    "\n",
    "        X = torch.from_numpy(X.values).float()\n",
    "        y = torch.from_numpy(y.values).float()\n",
    "\n",
    "        return X, y\n"
   ]
  },
  {
   "cell_type": "markdown",
   "metadata": {
    "collapsed": false
   },
   "source": [
    "# 2. 初始化模型"
   ]
  },
  {
   "cell_type": "markdown",
   "metadata": {},
   "source": [
    "## 2.1 设置基本参数"
   ]
  },
  {
   "cell_type": "code",
   "execution_count": 54,
   "metadata": {
    "collapsed": false,
    "ExecuteTime": {
     "end_time": "2023-10-20T05:26:30.168705400Z",
     "start_time": "2023-10-20T05:26:29.993030300Z"
    }
   },
   "outputs": [
    {
     "data": {
      "text/plain": "LSTMModel(\n  (lstm): LSTM(5, 150, batch_first=True)\n  (dropout): Dropout(p=0.2, inplace=False)\n  (fc): Linear(in_features=150, out_features=1, bias=True)\n)"
     },
     "execution_count": 54,
     "metadata": {},
     "output_type": "execute_result"
    }
   ],
   "source": [
    "# 设置模型参数\n",
    "input_size = 5\n",
    "output_size = 1\n",
    "sequence_len = 0\n",
    "\n",
    "hidden_size = 150\n",
    "# batch_size = 50\n",
    "num_layers = 1\n",
    "dropout_prob = 0.2\n",
    "tot_epoch = 2000\n",
    "learning_rate = 0.003\n",
    "l2_reg = 0.0\n",
    "teacher_len = 50\n",
    "\n",
    "# 设置训练，测试集\n",
    "train_ratio = 0.8\n",
    "\n",
    "# 创建模型实例并将其移动到GPU上\n",
    "model = LSTMModel(input_size, hidden_size, num_layers, dropout_prob, output_size)\n",
    "device = torch.device(\"cuda\")\n",
    "model.to(device)"
   ]
  },
  {
   "cell_type": "markdown",
   "metadata": {
    "collapsed": false
   },
   "source": [
    "## 2.2 设置优化器和损失函数"
   ]
  },
  {
   "cell_type": "code",
   "execution_count": 55,
   "metadata": {
    "collapsed": false,
    "ExecuteTime": {
     "end_time": "2023-10-20T05:26:30.170711600Z",
     "start_time": "2023-10-20T05:26:30.007424700Z"
    }
   },
   "outputs": [],
   "source": [
    "# 定义损失函数和优化器\n",
    "criterion = nn.MSELoss()  # 调用MSE损失函数\n",
    "optimizer = torch.optim.Adam(model.parameters(), lr=learning_rate, weight_decay=l2_reg)  # 调用Adam反向传播，梯度下降算法求解器"
   ]
  },
  {
   "cell_type": "markdown",
   "source": [
    "## 2.3 scaler逆操作"
   ],
   "metadata": {
    "collapsed": false
   }
  },
  {
   "cell_type": "code",
   "execution_count": 56,
   "outputs": [],
   "source": [
    "def inverse_min_max_scale(scaled_tensor, min_val, max_val):\n",
    "    # 逆操作：将缩放后的张量还原为原始范围\n",
    "    original_tensor = scaled_tensor * (max_val - min_val) + min_val\n",
    "    return original_tensor"
   ],
   "metadata": {
    "collapsed": false,
    "ExecuteTime": {
     "end_time": "2023-10-20T05:26:30.174742900Z",
     "start_time": "2023-10-20T05:26:30.022730300Z"
    }
   }
  },
  {
   "cell_type": "markdown",
   "metadata": {
    "collapsed": false
   },
   "source": [
    "# 3. 获取数据"
   ]
  },
  {
   "cell_type": "code",
   "execution_count": 57,
   "metadata": {
    "collapsed": false,
    "ExecuteTime": {
     "end_time": "2023-10-20T05:26:30.175753400Z",
     "start_time": "2023-10-20T05:26:30.038882900Z"
    }
   },
   "outputs": [
    {
     "name": "stdout",
     "output_type": "stream",
     "text": [
      "1844.229296 38.37068759\n"
     ]
    }
   ],
   "source": [
    "name = \"Illuvium\"\n",
    "path = \"data/\" + name + \".csv\"\n",
    "\n",
    "ori_y_min = 0\n",
    "ori_y_max = 0\n",
    "scaler = None\n",
    "\n",
    "input_data, target_data = model.get_data(path)\n",
    "\n",
    "test_len = int(sequence_len * (train_ratio)) - teacher_len\n",
    "test_input = input_data[test_len:]\n",
    "test_target = target_data[test_len:]\n",
    "\n",
    "input_data = input_data[:test_len + teacher_len].to(device)\n",
    "target_data = target_data[:test_len + teacher_len].to(device)\n",
    "target_data = target_data.view(-1, 1)\n",
    "\n",
    "test_target = test_target.to(device)\n",
    "test_target = test_target.view(-1, 1)\n",
    "test_input = test_input.to(device)"
   ]
  },
  {
   "cell_type": "markdown",
   "metadata": {
    "collapsed": false
   },
   "source": [
    "# 4. 训练模型"
   ]
  },
  {
   "cell_type": "code",
   "execution_count": 58,
   "metadata": {
    "collapsed": false,
    "ExecuteTime": {
     "end_time": "2023-10-20T05:26:37.694918500Z",
     "start_time": "2023-10-20T05:26:30.054889200Z"
    }
   },
   "outputs": [
    {
     "name": "stdout",
     "output_type": "stream",
     "text": [
      "Epoch: [100/2000], Loss:0.00032\n",
      "Epoch: [200/2000], Loss:0.00025\n",
      "Epoch: [300/2000], Loss:0.00018\n",
      "Epoch: [400/2000], Loss:0.00013\n",
      "Epoch [472/2000], Loss: 0.00010\n",
      "The loss value is reached\n"
     ]
    }
   ],
   "source": [
    "prev_loss = 20000\n",
    "output = None\n",
    "\n",
    "epoch = 0\n",
    "loss = 0\n",
    "while True:\n",
    "\n",
    "    if epoch == 1999:\n",
    "        break\n",
    "\n",
    "    if epoch < tot_epoch:\n",
    "        output = model(input_data).to(device)\n",
    "        loss = criterion(output, target_data)\n",
    "\n",
    "        optimizer.zero_grad()\n",
    "        loss.backward()\n",
    "        optimizer.step()\n",
    "\n",
    "        epoch += 1\n",
    "\n",
    "        if loss < prev_loss:\n",
    "            # torch.save(LSTMModel.state_dict(), 'lstm_model.pt')  # save model parameters to files\n",
    "            prev_loss = loss\n",
    "\n",
    "        if loss.item() < 1e-4:\n",
    "            print('Epoch [{}/{}], Loss: {:.5f}'.format(epoch + 1, tot_epoch, loss.item()))\n",
    "            print(\"The loss value is reached\")\n",
    "            break\n",
    "        elif (epoch + 1) % 100 == 0:\n",
    "            print('Epoch: [{}/{}], Loss:{:.5f}'.format(epoch + 1, tot_epoch, loss.item()))\n",
    "    else:\n",
    "        if loss < 0.6:\n",
    "            break\n",
    "        else:\n",
    "            tot_epoch += 500\n",
    "            continue\n"
   ]
  },
  {
   "cell_type": "code",
   "execution_count": 59,
   "outputs": [
    {
     "name": "stdout",
     "output_type": "stream",
     "text": [
      "MAPE (平均绝对百分比误差): 3.4738731384277344 %\n"
     ]
    }
   ],
   "source": [
    "def mape(y_true, y_pred):\n",
    "    absolute_percentage_errors = torch.abs((y_true - y_pred) / y_true)\n",
    "    mape = torch.mean(absolute_percentage_errors) * 100\n",
    "    return mape\n",
    "\n",
    "target_data = inverse_min_max_scale(target_data, ori_y_min, ori_y_max)\n",
    "output = inverse_min_max_scale(output, ori_y_min, ori_y_max)\n",
    "\n",
    "mape_value = mape(target_data, output)\n",
    "print(\"MAPE (平均绝对百分比误差):\", mape_value.item(), \"%\")\n"
   ],
   "metadata": {
    "collapsed": false,
    "ExecuteTime": {
     "end_time": "2023-10-20T05:26:37.739688200Z",
     "start_time": "2023-10-20T05:26:37.698272900Z"
    }
   }
  },
  {
   "cell_type": "code",
   "execution_count": 60,
   "outputs": [
    {
     "data": {
      "text/plain": "<Figure size 576x288 with 1 Axes>",
      "image/png": "[encoded data removed]"
     },
     "metadata": {
      "needs_background": "light"
     },
     "output_type": "display_data"
    }
   ],
   "source": [
    "import matplotlib.pyplot as plt\n",
    "\n",
    "# 示例的预测值和真实值\n",
    "predictions = output.view(-1).tolist()\n",
    "ground_truth = target_data.view(-1).tolist()\n",
    "\n",
    "# 创建 x 轴坐标，可以是简单的范围\n",
    "x = range(len(predictions))\n",
    "\n",
    "# 使用Matplotlib绘制折线图\n",
    "plt.figure(figsize=(8, 4))  # 设置图像大小\n",
    "\n",
    "# 绘制预测值的折线\n",
    "plt.plot(predictions, label='Prediction')\n",
    "\n",
    "# 绘制真实值的折线\n",
    "plt.plot(ground_truth, label='Ground Truth')\n",
    "\n",
    "# 添加图例\n",
    "plt.legend()\n",
    "\n",
    "# 添加标签\n",
    "plt.xlabel('Date')\n",
    "plt.ylabel('Value')\n",
    "\n",
    "# 显示网格\n",
    "plt.grid(True)\n",
    "\n",
    "# 显示图像\n",
    "plt.title('Pre vs. Tru')\n",
    "plt.show()\n"
   ],
   "metadata": {
    "collapsed": false,
    "ExecuteTime": {
     "end_time": "2023-10-20T05:26:37.806704400Z",
     "start_time": "2023-10-20T05:26:37.714033700Z"
    }
   }
  },
  {
   "cell_type": "markdown",
   "metadata": {
    "collapsed": false
   },
   "source": [
    "# 5. 预测"
   ]
  },
  {
   "cell_type": "code",
   "execution_count": 61,
   "metadata": {
    "collapsed": false,
    "ExecuteTime": {
     "end_time": "2023-10-20T05:26:37.822132500Z",
     "start_time": "2023-10-20T05:26:37.807704800Z"
    }
   },
   "outputs": [],
   "source": [
    "# 使用模型进行预测\n",
    "model.eval()\n",
    "with torch.no_grad():\n",
    "    prediction = model(test_input)\n",
    "\n",
    "test_target = inverse_min_max_scale(test_target, ori_y_min, ori_y_max)\n",
    "prediction = inverse_min_max_scale(prediction, ori_y_min, ori_y_max)\n",
    "\n",
    "y_pre = prediction.view(-1).tolist()\n",
    "y_tru = test_target.view(-1).tolist()"
   ]
  },
  {
   "cell_type": "markdown",
   "metadata": {
    "collapsed": false
   },
   "source": [
    "# 6. 评估模型"
   ]
  },
  {
   "cell_type": "markdown",
   "metadata": {
    "collapsed": false
   },
   "source": [
    "### 6.1 R^2"
   ]
  },
  {
   "cell_type": "code",
   "execution_count": 62,
   "metadata": {
    "collapsed": false,
    "ExecuteTime": {
     "end_time": "2023-10-20T05:26:37.877659200Z",
     "start_time": "2023-10-20T05:26:37.823139600Z"
    }
   },
   "outputs": [
    {
     "name": "stdout",
     "output_type": "stream",
     "text": [
      "R² (决定系数): 0.764762818813324\n"
     ]
    }
   ],
   "source": [
    "def r2_score(y_true, y_pred):\n",
    "    ssr = torch.sum((y_true - y_pred)**2)\n",
    "    sst = torch.sum((y_true - torch.mean(y_true))**2)\n",
    "    r2 = 1 - (ssr / sst)\n",
    "    return r2\n",
    "\n",
    "r_squared = r2_score(test_target[teacher_len:], prediction[teacher_len:])\n",
    "print(\"R² (决定系数):\", r_squared.item())\n"
   ]
  },
  {
   "cell_type": "markdown",
   "metadata": {
    "collapsed": false
   },
   "source": [
    "### 6.2 MAPE"
   ]
  },
  {
   "cell_type": "code",
   "execution_count": 63,
   "metadata": {
    "collapsed": false,
    "ExecuteTime": {
     "end_time": "2023-10-20T05:26:37.877659200Z",
     "start_time": "2023-10-20T05:26:37.836266600Z"
    }
   },
   "outputs": [
    {
     "name": "stdout",
     "output_type": "stream",
     "text": [
      "MAPE (平均绝对百分比误差): 3.498425006866455 %\n"
     ]
    }
   ],
   "source": [
    "def mape(y_true, y_pred):\n",
    "    absolute_percentage_errors = torch.abs((y_true - y_pred) / y_true)\n",
    "    mape = torch.mean(absolute_percentage_errors) * 100\n",
    "    return mape\n",
    "\n",
    "mape_value = mape(test_target[teacher_len:], prediction[teacher_len:])\n",
    "print(\"MAPE (平均绝对百分比误差):\", mape_value.item(), \"%\")\n"
   ]
  },
  {
   "cell_type": "markdown",
   "metadata": {
    "collapsed": false
   },
   "source": [
    "### 6.3 绘制图像"
   ]
  },
  {
   "cell_type": "code",
   "execution_count": 64,
   "metadata": {
    "collapsed": false,
    "ExecuteTime": {
     "end_time": "2023-10-20T05:26:38.646601600Z",
     "start_time": "2023-10-20T05:26:37.853700200Z"
    }
   },
   "outputs": [
    {
     "data": {
      "text/plain": "<Figure size 576x288 with 1 Axes>",
      "image/png": "[encoded data removed]"
     },
     "metadata": {
      "needs_background": "light"
     },
     "output_type": "display_data"
    }
   ],
   "source": [
    "import matplotlib.pyplot as plt\n",
    "\n",
    "# 示例的预测值和真实值\n",
    "predictions = y_pre[teacher_len:]\n",
    "ground_truth = y_tru[teacher_len:]\n",
    "\n",
    "# 创建 x 轴坐标，可以是简单的范围\n",
    "x = range(len(predictions))\n",
    "\n",
    "# 使用Matplotlib绘制折线图\n",
    "plt.figure(figsize=(8, 4))  # 设置图像大小\n",
    "\n",
    "# 绘制预测值的折线\n",
    "plt.plot(predictions, label='Prediction')\n",
    "\n",
    "# 绘制真实值的折线\n",
    "plt.plot(ground_truth, label='Ground Truth')\n",
    "\n",
    "# 添加图例\n",
    "plt.legend()\n",
    "\n",
    "# 添加标签\n",
    "plt.xlabel('Date')\n",
    "plt.ylabel('Value')\n",
    "\n",
    "# 显示网格\n",
    "plt.grid(True)\n",
    "\n",
    "# 显示图像\n",
    "plt.title('Pre vs. Tru')\n",
    "plt.show()\n"
   ]
  },
  {
   "cell_type": "markdown",
   "metadata": {
    "collapsed": false
   },
   "source": [
    "### 6.4 输出预测值和真实值"
   ]
  },
  {
   "cell_type": "code",
   "execution_count": 65,
   "metadata": {
    "collapsed": false,
    "ExecuteTime": {
     "end_time": "2023-10-20T05:26:38.697299100Z",
     "start_time": "2023-10-20T05:26:38.648605300Z"
    }
   },
   "outputs": [
    {
     "data": {
      "text/plain": "           Pre      Truth\n0    45.297207  46.624611\n1    43.182999  45.636936\n2    43.535637  46.118610\n3    42.689880  45.383266\n4    42.771465  45.336349\n..         ...        ...\n142  36.938236  38.804619\n143  38.330002  40.063976\n144  39.335850  40.367783\n145  39.608017  39.957111\n146  41.004250  41.590935\n\n[147 rows x 2 columns]",
      "text/html": "<div>\n<style scoped>\n    .dataframe tbody tr th:only-of-type {\n        vertical-align: middle;\n    }\n\n    .dataframe tbody tr th {\n        vertical-align: top;\n    }\n\n    .dataframe thead th {\n        text-align: right;\n    }\n</style>\n<table border=\"1\" class=\"dataframe\">\n  <thead>\n    <tr style=\"text-align: right;\">\n      <th></th>\n      <th>Pre</th>\n      <th>Truth</th>\n    </tr>\n  </thead>\n  <tbody>\n    <tr>\n      <th>0</th>\n      <td>45.297207</td>\n      <td>46.624611</td>\n    </tr>\n    <tr>\n      <th>1</th>\n      <td>43.182999</td>\n      <td>45.636936</td>\n    </tr>\n    <tr>\n      <th>2</th>\n      <td>43.535637</td>\n      <td>46.118610</td>\n    </tr>\n    <tr>\n      <th>3</th>\n      <td>42.689880</td>\n      <td>45.383266</td>\n    </tr>\n    <tr>\n      <th>4</th>\n      <td>42.771465</td>\n      <td>45.336349</td>\n    </tr>\n    <tr>\n      <th>...</th>\n      <td>...</td>\n      <td>...</td>\n    </tr>\n    <tr>\n      <th>142</th>\n      <td>36.938236</td>\n      <td>38.804619</td>\n    </tr>\n    <tr>\n      <th>143</th>\n      <td>38.330002</td>\n      <td>40.063976</td>\n    </tr>\n    <tr>\n      <th>144</th>\n      <td>39.335850</td>\n      <td>40.367783</td>\n    </tr>\n    <tr>\n      <th>145</th>\n      <td>39.608017</td>\n      <td>39.957111</td>\n    </tr>\n    <tr>\n      <th>146</th>\n      <td>41.004250</td>\n      <td>41.590935</td>\n    </tr>\n  </tbody>\n</table>\n<p>147 rows × 2 columns</p>\n</div>"
     },
     "execution_count": 65,
     "metadata": {},
     "output_type": "execute_result"
    }
   ],
   "source": [
    "import pandas as pd\n",
    "\n",
    "res = pd.DataFrame({\"Pre\": predictions, \"Truth\": ground_truth})\n",
    "\n",
    "res"
   ]
  }
 ],
 "metadata": {
  "kernelspec": {
   "display_name": "Python 3",
   "language": "python",
   "name": "python3"
  },
  "language_info": {
   "codemirror_mode": {
    "name": "ipython",
    "version": 2
   },
   "file_extension": ".py",
   "mimetype": "text/x-python",
   "name": "python",
   "nbconvert_exporter": "python",
   "pygments_lexer": "ipython2",
   "version": "3.9.18"
  }
 },
 "nbformat": 4,
 "nbformat_minor": 0
}
